{
 "cells": [
  {
   "cell_type": "markdown",
   "metadata": {},
   "source": [
    "## Handwritten Digit Recognition"
   ]
  },
  {
   "cell_type": "code",
   "execution_count": 32,
   "metadata": {
    "colab": {},
    "colab_type": "code",
    "id": "wDm4mOHRXmpD"
   },
   "outputs": [],
   "source": [
    "from keras.datasets import mnist\n",
    "from keras.utils import to_categorical"
   ]
  },
  {
   "cell_type": "code",
   "execution_count": 33,
   "metadata": {
    "colab": {
     "base_uri": "https://localhost:8080/",
     "height": 50
    },
    "colab_type": "code",
    "id": "iDi8e6xQX4AM",
    "outputId": "88b13892-6e6f-4539-9ed0-8bffec48951b"
   },
   "outputs": [],
   "source": [
    "(X_train,Y_train),(X_test,Y_test)=mnist.load_data()"
   ]
  },
  {
   "cell_type": "code",
   "execution_count": 34,
   "metadata": {
    "colab": {
     "base_uri": "https://localhost:8080/",
     "height": 34
    },
    "colab_type": "code",
    "id": "W6H76_vzYC6O",
    "outputId": "3ce728e1-6028-4206-a41e-9bd05db49330"
   },
   "outputs": [
    {
     "data": {
      "text/plain": [
       "(60000, 28, 28)"
      ]
     },
     "execution_count": 34,
     "metadata": {},
     "output_type": "execute_result"
    }
   ],
   "source": [
    "X_train.shape"
   ]
  },
  {
   "cell_type": "code",
   "execution_count": 35,
   "metadata": {
    "colab": {
     "base_uri": "https://localhost:8080/",
     "height": 34
    },
    "colab_type": "code",
    "id": "LAmU4xyfYHEf",
    "outputId": "cff3d5a4-87a9-45b3-fb73-7799d0139c71"
   },
   "outputs": [
    {
     "data": {
      "text/plain": [
       "(60000,)"
      ]
     },
     "execution_count": 35,
     "metadata": {},
     "output_type": "execute_result"
    }
   ],
   "source": [
    "Y_train.shape"
   ]
  },
  {
   "cell_type": "code",
   "execution_count": 36,
   "metadata": {
    "colab": {
     "base_uri": "https://localhost:8080/",
     "height": 34
    },
    "colab_type": "code",
    "id": "RJvaXcstYIXw",
    "outputId": "bd1b7ab9-09cb-4ebb-ddbc-fbbf8aa01ca2"
   },
   "outputs": [
    {
     "data": {
      "text/plain": [
       "(10000, 28, 28)"
      ]
     },
     "execution_count": 36,
     "metadata": {},
     "output_type": "execute_result"
    }
   ],
   "source": [
    "X_test.shape"
   ]
  },
  {
   "cell_type": "code",
   "execution_count": 37,
   "metadata": {
    "colab": {
     "base_uri": "https://localhost:8080/",
     "height": 34
    },
    "colab_type": "code",
    "id": "L4X0ZeLzYJ11",
    "outputId": "4568799a-7abb-451d-a3af-a2b66a7caa7e"
   },
   "outputs": [
    {
     "data": {
      "text/plain": [
       "(10000,)"
      ]
     },
     "execution_count": 37,
     "metadata": {},
     "output_type": "execute_result"
    }
   ],
   "source": [
    "Y_test.shape"
   ]
  },
  {
   "cell_type": "code",
   "execution_count": 38,
   "metadata": {},
   "outputs": [],
   "source": [
    "import matplotlib.pyplot as plt"
   ]
  },
  {
   "cell_type": "code",
   "execution_count": 42,
   "metadata": {},
   "outputs": [
    {
     "data": {
      "text/plain": [
       "<matplotlib.image.AxesImage at 0x266a13d8a58>"
      ]
     },
     "execution_count": 42,
     "metadata": {},
     "output_type": "execute_result"
    },
    {
     "data": {
      "image/png": "[encoded data removed]",
      "text/plain": [
       "<Figure size 432x288 with 1 Axes>"
      ]
     },
     "metadata": {
      "needs_background": "light"
     },
     "output_type": "display_data"
    }
   ],
   "source": [
    "plt.imshow(X_train[12])"
   ]
  },
  {
   "cell_type": "code",
   "execution_count": 43,
   "metadata": {
    "colab": {},
    "colab_type": "code",
    "id": "4GlrzVIeYLpt"
   },
   "outputs": [],
   "source": [
    "def preprocess_data(X,Y):\n",
    "  X=X.reshape((-1,28,28,1))\n",
    "  X=X/255.0\n",
    "  Y=to_categorical(Y)\n",
    "  return X,Y"
   ]
  },
  {
   "cell_type": "code",
   "execution_count": 44,
   "metadata": {
    "colab": {
     "base_uri": "https://localhost:8080/",
     "height": 34
    },
    "colab_type": "code",
    "id": "6wZi2Vf1YnuG",
    "outputId": "4d84f1e5-9c45-43c1-8c70-ef6270d8692a"
   },
   "outputs": [
    {
     "name": "stdout",
     "output_type": "stream",
     "text": [
      "(60000, 28, 28, 1) (60000, 10)\n"
     ]
    }
   ],
   "source": [
    "X_train,Y_train=preprocess_data(X_train,Y_train)\n",
    "print(X_train.shape,Y_train.shape)"
   ]
  },
  {
   "cell_type": "code",
   "execution_count": 45,
   "metadata": {
    "colab": {
     "base_uri": "https://localhost:8080/",
     "height": 34
    },
    "colab_type": "code",
    "id": "0zfn2HAEYw-6",
    "outputId": "0f3a643d-c6ca-4463-883c-d4f8e27a1cc3"
   },
   "outputs": [
    {
     "name": "stdout",
     "output_type": "stream",
     "text": [
      "(10000, 28, 28, 1) (10000, 10)\n"
     ]
    }
   ],
   "source": [
    "X_test,Y_test=preprocess_data(X_test,Y_test)\n",
    "print(X_test.shape,Y_test.shape)"
   ]
  },
  {
   "cell_type": "code",
   "execution_count": 16,
   "metadata": {
    "colab": {},
    "colab_type": "code",
    "id": "fpl8l2wgY9_5"
   },
   "outputs": [],
   "source": [
    "from keras.layers import *\n",
    "from keras import models\n"
   ]
  },
  {
   "cell_type": "code",
   "execution_count": 17,
   "metadata": {
    "colab": {
     "base_uri": "https://localhost:8080/",
     "height": 403
    },
    "colab_type": "code",
    "id": "O34PqHP3ZNk3",
    "outputId": "07189f9e-b194-4945-8cb7-a0d4e22a06cd"
   },
   "outputs": [
    {
     "name": "stderr",
     "output_type": "stream",
     "text": [
      "WARNING: Logging before flag parsing goes to stderr.\n",
      "W0930 23:50:36.967135  3112 deprecation_wrapper.py:119] From C:\\Users\\Sahil Garg\\Anaconda3\\lib\\site-packages\\keras\\backend\\tensorflow_backend.py:74: The name tf.get_default_graph is deprecated. Please use tf.compat.v1.get_default_graph instead.\n",
      "\n",
      "W0930 23:50:36.998415  3112 deprecation_wrapper.py:119] From C:\\Users\\Sahil Garg\\Anaconda3\\lib\\site-packages\\keras\\backend\\tensorflow_backend.py:517: The name tf.placeholder is deprecated. Please use tf.compat.v1.placeholder instead.\n",
      "\n",
      "W0930 23:50:37.009792  3112 deprecation_wrapper.py:119] From C:\\Users\\Sahil Garg\\Anaconda3\\lib\\site-packages\\keras\\backend\\tensorflow_backend.py:4138: The name tf.random_uniform is deprecated. Please use tf.random.uniform instead.\n",
      "\n",
      "W0930 23:50:37.030127  3112 deprecation_wrapper.py:119] From C:\\Users\\Sahil Garg\\Anaconda3\\lib\\site-packages\\keras\\backend\\tensorflow_backend.py:3976: The name tf.nn.max_pool is deprecated. Please use tf.nn.max_pool2d instead.\n",
      "\n"
     ]
    },
    {
     "name": "stdout",
     "output_type": "stream",
     "text": [
      "_________________________________________________________________\n",
      "Layer (type)                 Output Shape              Param #   \n",
      "=================================================================\n",
      "conv2d_1 (Conv2D)            (None, 26, 26, 32)        320       \n",
      "_________________________________________________________________\n",
      "max_pooling2d_1 (MaxPooling2 (None, 13, 13, 32)        0         \n",
      "_________________________________________________________________\n",
      "conv2d_2 (Conv2D)            (None, 11, 11, 64)        18496     \n",
      "_________________________________________________________________\n",
      "max_pooling2d_2 (MaxPooling2 (None, 5, 5, 64)          0         \n",
      "_________________________________________________________________\n",
      "conv2d_3 (Conv2D)            (None, 3, 3, 64)          36928     \n",
      "_________________________________________________________________\n",
      "flatten_1 (Flatten)          (None, 576)               0         \n",
      "_________________________________________________________________\n",
      "dense_1 (Dense)              (None, 64)                36928     \n",
      "_________________________________________________________________\n",
      "dense_2 (Dense)              (None, 10)                650       \n",
      "=================================================================\n",
      "Total params: 93,322\n",
      "Trainable params: 93,322\n",
      "Non-trainable params: 0\n",
      "_________________________________________________________________\n"
     ]
    }
   ],
   "source": [
    "model=models.Sequential()\n",
    "model.add(Conv2D(32,(3,3),activation=\"relu\",input_shape=(28,28,1)))\n",
    "model.add(MaxPool2D((2,2)))\n",
    "model.add(Conv2D(64,(3,3),activation=\"relu\",input_shape=(28,28,1)))\n",
    "model.add(MaxPool2D((2,2)))\n",
    "model.add(Conv2D(64,(3,3),activation=\"relu\",input_shape=(28,28,1)))\n",
    "model.add(Flatten())\n",
    "model.add(Dense(64,activation=\"relu\"))\n",
    "model.add(Dense(10,activation=\"softmax\"))\n",
    "model.summary()"
   ]
  },
  {
   "cell_type": "code",
   "execution_count": 18,
   "metadata": {
    "colab": {
     "base_uri": "https://localhost:8080/",
     "height": 843
    },
    "colab_type": "code",
    "id": "8LgRkKNKZPqM",
    "outputId": "222c6899-28b0-4b44-d330-02a20bb5caed"
   },
   "outputs": [
    {
     "name": "stderr",
     "output_type": "stream",
     "text": [
      "W0930 23:50:38.759217  3112 deprecation_wrapper.py:119] From C:\\Users\\Sahil Garg\\Anaconda3\\lib\\site-packages\\keras\\optimizers.py:790: The name tf.train.Optimizer is deprecated. Please use tf.compat.v1.train.Optimizer instead.\n",
      "\n",
      "W0930 23:50:38.785008  3112 deprecation_wrapper.py:119] From C:\\Users\\Sahil Garg\\Anaconda3\\lib\\site-packages\\keras\\backend\\tensorflow_backend.py:3295: The name tf.log is deprecated. Please use tf.math.log instead.\n",
      "\n",
      "W0930 23:50:38.887184  3112 deprecation.py:323] From C:\\Users\\Sahil Garg\\Anaconda3\\lib\\site-packages\\tensorflow\\python\\ops\\math_grad.py:1250: add_dispatch_support.<locals>.wrapper (from tensorflow.python.ops.array_ops) is deprecated and will be removed in a future version.\n",
      "Instructions for updating:\n",
      "Use tf.where in 2.0, which has the same broadcast rule as np.where\n",
      "W0930 23:50:38.957616  3112 deprecation_wrapper.py:119] From C:\\Users\\Sahil Garg\\Anaconda3\\lib\\site-packages\\keras\\backend\\tensorflow_backend.py:986: The name tf.assign_add is deprecated. Please use tf.compat.v1.assign_add instead.\n",
      "\n"
     ]
    },
    {
     "name": "stdout",
     "output_type": "stream",
     "text": [
      "Train on 54000 samples, validate on 6000 samples\n",
      "Epoch 1/20\n",
      "54000/54000 [==============================] - 26s 489us/step - loss: 0.2702 - acc: 0.9201 - val_loss: 0.0663 - val_acc: 0.9820\n",
      "Epoch 2/20\n",
      "54000/54000 [==============================] - 26s 475us/step - loss: 0.0669 - acc: 0.9795 - val_loss: 0.0416 - val_acc: 0.9888\n",
      "Epoch 3/20\n",
      "54000/54000 [==============================] - 26s 491us/step - loss: 0.0469 - acc: 0.9850 - val_loss: 0.0422 - val_acc: 0.9878\n",
      "Epoch 4/20\n",
      "54000/54000 [==============================] - 27s 505us/step - loss: 0.0355 - acc: 0.9885 - val_loss: 0.0389 - val_acc: 0.9897\n",
      "Epoch 5/20\n",
      "54000/54000 [==============================] - 26s 484us/step - loss: 0.0296 - acc: 0.9903 - val_loss: 0.0399 - val_acc: 0.9887\n",
      "Epoch 6/20\n",
      "54000/54000 [==============================] - 28s 516us/step - loss: 0.0225 - acc: 0.9928 - val_loss: 0.0409 - val_acc: 0.9905\n",
      "Epoch 7/20\n",
      "54000/54000 [==============================] - 28s 516us/step - loss: 0.0195 - acc: 0.9937 - val_loss: 0.0313 - val_acc: 0.9923\n",
      "Epoch 8/20\n",
      "54000/54000 [==============================] - 27s 504us/step - loss: 0.0166 - acc: 0.9944 - val_loss: 0.0344 - val_acc: 0.9912\n",
      "Epoch 9/20\n",
      "54000/54000 [==============================] - 27s 504us/step - loss: 0.0139 - acc: 0.9954 - val_loss: 0.0373 - val_acc: 0.9900\n",
      "Epoch 10/20\n",
      "54000/54000 [==============================] - 25s 472us/step - loss: 0.0123 - acc: 0.9958 - val_loss: 0.0378 - val_acc: 0.9908\n",
      "Epoch 11/20\n",
      "54000/54000 [==============================] - 26s 474us/step - loss: 0.0110 - acc: 0.9963 - val_loss: 0.0322 - val_acc: 0.9918\n",
      "Epoch 12/20\n",
      "54000/54000 [==============================] - 25s 467us/step - loss: 0.0093 - acc: 0.9966 - val_loss: 0.0233 - val_acc: 0.9940\n",
      "Epoch 13/20\n",
      "54000/54000 [==============================] - 30s 559us/step - loss: 0.0084 - acc: 0.9974 - val_loss: 0.0271 - val_acc: 0.9938\n",
      "Epoch 14/20\n",
      "54000/54000 [==============================] - 28s 513us/step - loss: 0.0083 - acc: 0.9974 - val_loss: 0.0499 - val_acc: 0.9888\n",
      "Epoch 15/20\n",
      "54000/54000 [==============================] - 28s 518us/step - loss: 0.0081 - acc: 0.9973 - val_loss: 0.0390 - val_acc: 0.9915\n",
      "Epoch 16/20\n",
      "54000/54000 [==============================] - 29s 540us/step - loss: 0.0059 - acc: 0.9979 - val_loss: 0.0478 - val_acc: 0.9907\n",
      "Epoch 17/20\n",
      "54000/54000 [==============================] - 29s 538us/step - loss: 0.0061 - acc: 0.9981 - val_loss: 0.0443 - val_acc: 0.9908\n",
      "Epoch 18/20\n",
      "54000/54000 [==============================] - 30s 557us/step - loss: 0.0057 - acc: 0.9983 - val_loss: 0.0454 - val_acc: 0.9920\n",
      "Epoch 19/20\n",
      "54000/54000 [==============================] - 29s 537us/step - loss: 0.0041 - acc: 0.9986 - val_loss: 0.0449 - val_acc: 0.9918\n",
      "Epoch 20/20\n",
      "54000/54000 [==============================] - 26s 480us/step - loss: 0.0081 - acc: 0.9971 - val_loss: 0.0444 - val_acc: 0.9923\n"
     ]
    }
   ],
   "source": [
    "model.compile(optimizer=\"adam\",loss=\"categorical_crossentropy\",metrics=['accuracy'])\n",
    "hist=model.fit(X_train,Y_train,epochs=20,validation_split=0.1,batch_size=128)"
   ]
  },
  {
   "cell_type": "code",
   "execution_count": 21,
   "metadata": {
    "colab": {
     "base_uri": "https://localhost:8080/",
     "height": 50
    },
    "colab_type": "code",
    "id": "G5JTe6hEfoft",
    "outputId": "b0db1cee-1427-4a27-e7f2-55854aa8dc50"
   },
   "outputs": [
    {
     "name": "stdout",
     "output_type": "stream",
     "text": [
      "10000/10000 [==============================] - 1s 117us/step\n"
     ]
    },
    {
     "data": {
      "text/plain": [
       "[0.03417656211821809, 0.9931]"
      ]
     },
     "execution_count": 21,
     "metadata": {},
     "output_type": "execute_result"
    }
   ],
   "source": [
    "model.evaluate(X_test,Y_test)"
   ]
  },
  {
   "cell_type": "code",
   "execution_count": 26,
   "metadata": {},
   "outputs": [
    {
     "data": {
      "image/png": "[encoded data removed]",
      "text/plain": [
       "<Figure size 432x288 with 1 Axes>"
      ]
     },
     "metadata": {
      "needs_background": "light"
     },
     "output_type": "display_data"
    }
   ],
   "source": [
    "plt.figure(0)\n",
    "plt.plot(hist.history['loss'],'g',label='Training Loss')\n",
    "plt.plot(hist.history['val_loss'],'b',label=\"val_loss\")\n",
    "\n",
    "plt.plot(hist.history['acc'],'r',label=\"Training accuracy\")\n",
    "plt.plot(hist.history['val_acc'],'black',label=\"val_accuracy\")\n",
    "plt.legend()\n",
    "plt.show()\n"
   ]
  },
  {
   "cell_type": "markdown",
   "metadata": {
    "colab": {},
    "colab_type": "code",
    "id": "UwKsjNoMfvYv"
   },
   "source": [
    "## 99 percent accuracy"
   ]
  },
  {
   "cell_type": "code",
   "execution_count": 0,
   "metadata": {
    "colab": {},
    "colab_type": "code",
    "id": "4_VKlQLRfzTg"
   },
   "outputs": [],
   "source": []
  }
 ],
 "metadata": {
  "accelerator": "TPU",
  "colab": {
   "name": "Fashion_Mnist_Dataset.ipynb",
   "provenance": [],
   "version": "0.3.2"
  },
  "kernelspec": {
   "display_name": "Python 3",
   "language": "python",
   "name": "python3"
  },
  "language_info": {
   "codemirror_mode": {
    "name": "ipython",
    "version": 3
   },
   "file_extension": ".py",
   "mimetype": "text/x-python",
   "name": "python",
   "nbconvert_exporter": "python",
   "pygments_lexer": "ipython3",
   "version": "3.6.8"
  }
 },
 "nbformat": 4,
 "nbformat_minor": 1
}
